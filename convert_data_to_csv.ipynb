{
 "cells": [
  {
   "cell_type": "code",
   "execution_count": 1,
   "metadata": {},
   "outputs": [],
   "source": [
    "import numpy as np"
   ]
  },
  {
   "cell_type": "code",
   "execution_count": 2,
   "metadata": {},
   "outputs": [],
   "source": [
    "#params\n",
    "input_files = ['/Users/lo/Programming/emoji_scripts/Data/data_emoji_Polarity1.csv.npz', '/Users/lo/Programming/emoji_scripts/Data/data_emoji_Polarity2.csv.npz', '/Users/lo/Programming/emoji_scripts/Data/data_emoji_Polarity3.csv.npz',\n",
    "               '/Users/lo/Programming/emoji_scripts/Data/data_emoji.csv.npz', '/Users/lo/Programming/emoji_scripts/Data/data_emoji_unibi.csv.npz', '/Users/lo/Programming/emoji_scripts/Data/data_unibi.csv.npz']"
   ]
  },
  {
   "cell_type": "code",
   "execution_count": 3,
   "metadata": {},
   "outputs": [
    {
     "name": "stdout",
     "output_type": "stream",
     "text": [
      "/Users/lo/Programming/emoji_scripts/Data/data_emoji_Polarity1.csv.npz\n",
      "indices (2998107,) [1059 1939  747 ... 2145  984 1513]\n",
      "indptr (2003065,) [      0       1       2 ... 2998104 2998105 2998107]\n",
      "format () b'csr'\n",
      "shape (2,) [2003064    2565]\n",
      "data (2998107,) [62.84356499 10.81447947  5.92502737 ...  1.77496314 -0.6246295\n",
      " 17.30068541]\n",
      "\n",
      "/Users/lo/Programming/emoji_scripts/Data/data_emoji_Polarity2.csv.npz\n",
      "indices (2998107,) [1059 1939  747 ... 2145  984 1513]\n",
      "indptr (2003065,) [      0       1       2 ... 2998104 2998105 2998107]\n",
      "format () b'csr'\n",
      "shape (2,) [2003064    2565]\n",
      "data (2998107,) [1.54412711 0.24113488 0.15773675 ... 0.0686201  0.04844209 0.3934763 ]\n",
      "\n",
      "/Users/lo/Programming/emoji_scripts/Data/data_emoji_Polarity3.csv.npz\n",
      "indices (2998107,) [1059 1939  747 ... 2145  984 1513]\n",
      "indptr (2003065,) [      0       1       2 ... 2998104 2998105 2998107]\n",
      "format () b'csr'\n",
      "shape (2,) [2003064    2565]\n",
      "data (2998107,) [2.80396428 0.94732577 0.86524508 ... 0.83942588 0.90042002 1.86792424]\n",
      "\n",
      "/Users/lo/Programming/emoji_scripts/Data/data_emoji.csv.npz\n",
      "indices (2998107,) [1059 1939  747 ... 2145  984 1513]\n",
      "indptr (2003065,) [      0       1       2 ... 2998104 2998105 2998107]\n",
      "format () b'csr'\n",
      "shape (2,) [2003064    2565]\n",
      "data (2998107,) [3 1 1 ... 1 1 2]\n",
      "\n",
      "/Users/lo/Programming/emoji_scripts/Data/data_emoji_unibi.csv.npz\n",
      "row (48774598,) [      0       0       0 ... 2003045 2003055 2003058]\n",
      "col (48774598,) [396201  84166 396167 ... 419419 419419 419419]\n",
      "format () b'coo'\n",
      "shape (2,) [2003064  419420]\n",
      "data (48774598,) [1 1 1 ... 1 1 1]\n",
      "\n",
      "/Users/lo/Programming/emoji_scripts/Data/data_unibi.csv.npz\n",
      "row (42659172,) [      0       0       0 ... 2003045 2003055 2003058]\n",
      "col (42659172,) [ 76442  83418  49805 ... 352160 352160 352160]\n",
      "format () b'coo'\n",
      "shape (2,) [2003064  352161]\n",
      "data (42659172,) [1 1 1 ... 1 1 1]\n",
      "\n"
     ]
    }
   ],
   "source": [
    "for file_path in input_files:\n",
    "    print(file_path)\n",
    "    data = np.load(file_path)\n",
    "    \n",
    "    for file in data.files:\n",
    "        print(file, data[file].shape, data[file])\n",
    "        \n",
    "    print('')"
   ]
  },
  {
   "cell_type": "code",
   "execution_count": null,
   "metadata": {},
   "outputs": [],
   "source": []
  }
 ],
 "metadata": {
  "kernelspec": {
   "display_name": "Python 3",
   "language": "python",
   "name": "python3"
  },
  "language_info": {
   "codemirror_mode": {
    "name": "ipython",
    "version": 3
   },
   "file_extension": ".py",
   "mimetype": "text/x-python",
   "name": "python",
   "nbconvert_exporter": "python",
   "pygments_lexer": "ipython3",
   "version": "3.6.7"
  }
 },
 "nbformat": 4,
 "nbformat_minor": 2
}
